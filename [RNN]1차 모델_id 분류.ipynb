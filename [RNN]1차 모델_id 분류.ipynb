{
 "cells": [
  {
   "cell_type": "markdown",
   "metadata": {},
   "source": [
    "# RNN 모델링"
   ]
  },
  {
   "cell_type": "markdown",
   "metadata": {},
   "source": [
    "## 불용어 제거 및 차원 지정"
   ]
  },
  {
   "cell_type": "code",
   "execution_count": 1,
   "metadata": {},
   "outputs": [],
   "source": [
    "import pandas as pd\n",
    "import numpy as np\n",
    "import tensorflow as tf\n",
    "from eunjeon import Mecab\n",
    "import re\n",
    "from sklearn.preprocessing import LabelEncoder\n",
    "import os\n",
    "from sklearn.model_selection import train_test_split\n",
    "from tensorflow.keras.preprocessing.text import Tokenizer\n",
    "from tensorflow.keras.preprocessing.sequence import pad_sequences\n",
    "from tensorflow.keras import utils"
   ]
  },
  {
   "cell_type": "code",
   "execution_count": 3,
   "metadata": {},
   "outputs": [],
   "source": [
    "data = pd.read_csv('./trainset.csv', encoding='utf-8')\n",
    "x=data['contents']\n",
    "y=data['id']"
   ]
  },
  {
   "cell_type": "markdown",
   "metadata": {},
   "source": [
    "# 형태소 분석"
   ]
  },
  {
   "cell_type": "code",
   "execution_count": 4,
   "metadata": {},
   "outputs": [],
   "source": [
    "tagger = Mecab()\n",
    "x_data = []\n",
    "for s in x:\n",
    "    morph_tokenized_sentences = tagger.morphs(s)\n",
    "    x_data.append(morph_tokenized_sentences)\n"
   ]
  },
  {
   "cell_type": "code",
   "execution_count": 21,
   "metadata": {},
   "outputs": [],
   "source": [
    "# tagger = Mecab()\n",
    "# morph_tokenized_sentences = [tagger.morphs(s.replace(' ', '')) for s in x]\n",
    "# morph_tokenized_sentences"
   ]
  },
  {
   "cell_type": "markdown",
   "metadata": {},
   "source": [
    "# 특수기호 제거"
   ]
  },
  {
   "cell_type": "code",
   "execution_count": 5,
   "metadata": {},
   "outputs": [],
   "source": [
    "temp=[]\n",
    "for j in range(len(x_data)):\n",
    "    for document in x_data[j]:\n",
    "        temp.append(re.sub(r'[^ ㄱ-ㅣ가-힣A-Za-z]', '', document))  \n",
    "    x_data[j] = temp\n",
    "    temp=[]"
   ]
  },
  {
   "cell_type": "markdown",
   "metadata": {},
   "source": [
    "# 불용어 제거"
   ]
  },
  {
   "cell_type": "code",
   "execution_count": 6,
   "metadata": {},
   "outputs": [
    {
     "data": {
      "text/plain": [
       "['어서',\n",
       " '세요',\n",
       " '코디',\n",
       " '봇',\n",
       " '도와드릴까요',\n",
       " '처음',\n",
       " '대학교',\n",
       " '들어가',\n",
       " '는',\n",
       " '옷',\n",
       " '코디',\n",
       " '해',\n",
       " '세요',\n",
       " '신입',\n",
       " '생',\n",
       " '코디',\n",
       " '어울리',\n",
       " '게',\n",
       " '화사',\n",
       " '스웨터',\n",
       " '추천',\n",
       " '해',\n",
       " '드릴게요',\n",
       " '옷',\n",
       " '어울리',\n",
       " '는',\n",
       " '치마',\n",
       " '추천',\n",
       " '해',\n",
       " '세요',\n",
       " '라운드',\n",
       " '네크라인',\n",
       " '밈',\n",
       " '는',\n",
       " '풀오버',\n",
       " '스타일',\n",
       " '전체',\n",
       " '케이블',\n",
       " '조직',\n",
       " '드롭',\n",
       " '숄더',\n",
       " '슬리브',\n",
       " '손등',\n",
       " '는',\n",
       " '길이',\n",
       " '소매',\n",
       " '몸',\n",
       " '적당히',\n",
       " '맞',\n",
       " '는',\n",
       " '품',\n",
       " '엉덩이',\n",
       " '덮',\n",
       " '는',\n",
       " '길',\n",
       " '네크라인',\n",
       " '소매',\n",
       " '끝',\n",
       " '밑단',\n",
       " '고무단',\n",
       " '처리',\n",
       " '레이온',\n",
       " '나일론',\n",
       " '폴리에스터',\n",
       " '꽈배기',\n",
       " '조직',\n",
       " '플레인',\n",
       " '조직',\n",
       " '섞여',\n",
       " '는',\n",
       " '형태',\n",
       " '드라이',\n",
       " '크리',\n",
       " '닝',\n",
       " '단색',\n",
       " '라임색',\n",
       " '브라이트',\n",
       " '톤',\n",
       " '고명',\n",
       " '도',\n",
       " '고채',\n",
       " '도',\n",
       " '옐로우',\n",
       " '그린',\n",
       " '산뜻',\n",
       " '고',\n",
       " '발랄',\n",
       " '기본',\n",
       " '단정',\n",
       " '편안',\n",
       " '산뜻',\n",
       " '발랄',\n",
       " '경쾌',\n",
       " '따뜻',\n",
       " '데일리',\n",
       " '룩',\n",
       " '캠퍼스',\n",
       " '룩']"
      ]
     },
     "execution_count": 6,
     "metadata": {},
     "output_type": "execute_result"
    }
   ],
   "source": [
    "stopwords = []\n",
    "f = open('./불용어사전.txt',encoding='UTF8')\n",
    "lines = f.readlines()\n",
    "for line in lines:\n",
    "    line = line.strip()\n",
    "    stopwords.append(line)\n",
    "f.close()\n",
    "\n",
    "\n",
    "X_data=[]\n",
    "for w in x_data:\n",
    "    temp_X = [t for t in w if not t in stopwords]\n",
    "    X_data.append(temp_X)\n",
    "X_data[0]    "
   ]
  },
  {
   "cell_type": "markdown",
   "metadata": {},
   "source": [
    "# 1. 임베딩 레이어 활용"
   ]
  },
  {
   "cell_type": "code",
   "execution_count": 7,
   "metadata": {},
   "outputs": [],
   "source": [
    "from tensorflow.keras.preprocessing.text import Tokenizer\n",
    "tokenizer = Tokenizer()\n",
    "tokenizer.fit_on_texts(X_data)"
   ]
  },
  {
   "cell_type": "code",
   "execution_count": 8,
   "metadata": {},
   "outputs": [
    {
     "name": "stdout",
     "output_type": "stream",
     "text": [
      "단어 집합(vocabulary)의 크기 : 6662\n",
      "등장 빈도가 3번 이하인 희귀 단어의 수: 464\n",
      "단어 집합에서 희귀 단어의 비율: 6.9648754127889525\n",
      "전체 등장 빈도에서 희귀 단어 등장 빈도 비율: 0.015941076467683286\n"
     ]
    }
   ],
   "source": [
    "threshold = 4\n",
    "total_cnt = len(tokenizer.word_index) # 단어의 수\n",
    "rare_cnt = 0 # 등장 빈도수가 threshold보다 작은 단어의 개수를 카운트\n",
    "total_freq = 0 # 훈련 데이터의 전체 단어 빈도수 총 합\n",
    "rare_freq = 0 # 등장 빈도수가 threshold보다 작은 단어의 등장 빈도수의 총 합\n",
    "\n",
    "# 단어와 빈도수의 쌍(pair)을 key와 value로 받는다.\n",
    "for key, value in tokenizer.word_counts.items():\n",
    "    total_freq = total_freq + value\n",
    "\n",
    "    # 단어의 등장 빈도수가 threshold보다 작으면\n",
    "    if(value < threshold):\n",
    "        rare_cnt = rare_cnt + 1\n",
    "        rare_freq = rare_freq + value\n",
    "\n",
    "print('단어 집합(vocabulary)의 크기 :',total_cnt)\n",
    "print('등장 빈도가 %s번 이하인 희귀 단어의 수: %s'%(threshold - 1, rare_cnt))\n",
    "print(\"단어 집합에서 희귀 단어의 비율:\", (rare_cnt / total_cnt)*100)\n",
    "print(\"전체 등장 빈도에서 희귀 단어 등장 빈도 비율:\", (rare_freq / total_freq)*100)"
   ]
  },
  {
   "cell_type": "code",
   "execution_count": 9,
   "metadata": {},
   "outputs": [
    {
     "name": "stdout",
     "output_type": "stream",
     "text": [
      "단어 집합의 크기 : 6199\n"
     ]
    }
   ],
   "source": [
    "vocab_size = total_cnt - rare_cnt + 1 # tokenizer 함수에 들어 갈 때 영향줘서 1 추가 해야 됨\n",
    "print('단어 집합의 크기 :',vocab_size)"
   ]
  },
  {
   "cell_type": "code",
   "execution_count": 10,
   "metadata": {},
   "outputs": [],
   "source": [
    "tokenizer = Tokenizer(vocab_size) \n",
    "tokenizer.fit_on_texts(X_data)\n",
    "X_data = tokenizer.texts_to_sequences(X_data)"
   ]
  },
  {
   "cell_type": "code",
   "execution_count": 11,
   "metadata": {},
   "outputs": [
    {
     "name": "stdout",
     "output_type": "stream",
     "text": [
      "문장 최대 길이 : 406\n",
      "문장의 평균 길이 : 147.8651801281894\n"
     ]
    },
    {
     "data": {
      "image/png": "[encoded data removed]",
      "text/plain": [
       "<Figure size 640x480 with 1 Axes>"
      ]
     },
     "metadata": {},
     "output_type": "display_data"
    }
   ],
   "source": [
    "import matplotlib.pyplot as plt\n",
    "print('문장 최대 길이 :',max(len(l) for l in X_data))\n",
    "print('문장의 평균 길이 :',sum(map(len, X_data))/len(X_data))\n",
    "plt.hist([len(s) for s in X_data], bins=50)\n",
    "plt.xlabel('length of samples')\n",
    "plt.ylabel('number of samples')\n",
    "plt.show()\n",
    "plt.close()"
   ]
  },
  {
   "cell_type": "code",
   "execution_count": 12,
   "metadata": {},
   "outputs": [
    {
     "name": "stdout",
     "output_type": "stream",
     "text": [
      "전체 샘플 중 길이가 250 이하인 샘플의 비율: 98.4921784828467\n"
     ]
    }
   ],
   "source": [
    "def below_threshold_len(max_len, nested_list):\n",
    "  cnt = 0\n",
    "  for s in nested_list:\n",
    "    if(len(s) <= max_len):\n",
    "        cnt = cnt + 1\n",
    "  print('전체 샘플 중 길이가 %s 이하인 샘플의 비율: %s'%(max_len, (cnt / len(nested_list))*100))\n",
    "\n",
    "max_len = 250\n",
    "below_threshold_len(max_len, X_data)"
   ]
  },
  {
   "cell_type": "markdown",
   "metadata": {},
   "source": [
    "# padding"
   ]
  },
  {
   "cell_type": "code",
   "execution_count": 13,
   "metadata": {},
   "outputs": [],
   "source": [
    "from tensorflow.keras.preprocessing.sequence import pad_sequences\n",
    "X_data = pad_sequences(X_data, maxlen = max_len)\n",
    "enc = LabelEncoder()\n",
    "enc.fit(y)\n",
    "Y_label = enc.transform(y)\n",
    "y_data = tf.keras.utils.to_categorical(Y_label)"
   ]
  },
  {
   "cell_type": "code",
   "execution_count": null,
   "metadata": {},
   "outputs": [],
   "source": []
  },
  {
   "cell_type": "markdown",
   "metadata": {},
   "source": [
    "# RNN 모델"
   ]
  },
  {
   "cell_type": "code",
   "execution_count": 14,
   "metadata": {},
   "outputs": [],
   "source": [
    "from tensorflow.keras.layers import Embedding, Dense, LSTM, SimpleRNN\n",
    "from tensorflow.keras.models import Sequential\n",
    "from tensorflow.keras.models import load_model\n",
    "from tensorflow.keras.callbacks import EarlyStopping, ModelCheckpoint\n",
    "from sklearn.model_selection import train_test_split"
   ]
  },
  {
   "cell_type": "code",
   "execution_count": 15,
   "metadata": {},
   "outputs": [
    {
     "data": {
      "text/plain": [
       "(28504, 250)"
      ]
     },
     "execution_count": 15,
     "metadata": {},
     "output_type": "execute_result"
    }
   ],
   "source": [
    "x_train, x_test, y_train, y_test = train_test_split(X_data, y_data,test_size=0.3, random_state=777, stratify=y_data)\n",
    "x_train.shape"
   ]
  },
  {
   "cell_type": "code",
   "execution_count": 16,
   "metadata": {},
   "outputs": [
    {
     "data": {
      "text/plain": [
       "numpy.ndarray"
      ]
     },
     "execution_count": 16,
     "metadata": {},
     "output_type": "execute_result"
    }
   ],
   "source": [
    "type(y_test)"
   ]
  },
  {
   "cell_type": "code",
   "execution_count": 36,
   "metadata": {},
   "outputs": [],
   "source": [
    "# import numpy as np\n",
    "# y_train = np.array(y_train)\n",
    "# y_test = np.array(y_test)"
   ]
  },
  {
   "cell_type": "code",
   "execution_count": 17,
   "metadata": {},
   "outputs": [
    {
     "data": {
      "text/plain": [
       "(28504, 250)"
      ]
     },
     "execution_count": 17,
     "metadata": {},
     "output_type": "execute_result"
    }
   ],
   "source": [
    "x_train.shape"
   ]
  },
  {
   "cell_type": "code",
   "execution_count": 18,
   "metadata": {},
   "outputs": [
    {
     "data": {
      "text/plain": [
       "(28504, 13)"
      ]
     },
     "execution_count": 18,
     "metadata": {},
     "output_type": "execute_result"
    }
   ],
   "source": [
    "y_train.shape"
   ]
  },
  {
   "cell_type": "code",
   "execution_count": 20,
   "metadata": {},
   "outputs": [
    {
     "name": "stdout",
     "output_type": "stream",
     "text": [
      "Model: \"sequential_1\"\n",
      "_________________________________________________________________\n",
      "Layer (type)                 Output Shape              Param #   \n",
      "=================================================================\n",
      "embedding_1 (Embedding)      (None, None, 250)         1549750   \n",
      "_________________________________________________________________\n",
      "simple_rnn_1 (SimpleRNN)     (None, 250)               125250    \n",
      "_________________________________________________________________\n",
      "dense_1 (Dense)              (None, 13)                3263      \n",
      "=================================================================\n",
      "Total params: 1,678,263\n",
      "Trainable params: 1,678,263\n",
      "Non-trainable params: 0\n",
      "_________________________________________________________________\n"
     ]
    }
   ],
   "source": [
    "model = Sequential()\n",
    "model.add(Embedding(vocab_size, max_len))\n",
    "model.add(SimpleRNN(250))\n",
    "model.add(Dense(13, activation='softmax'))\n",
    "\n",
    "model.summary()"
   ]
  },
  {
   "cell_type": "code",
   "execution_count": 21,
   "metadata": {},
   "outputs": [],
   "source": [
    "es = EarlyStopping(monitor='val_loss', mode='min', verbose=1, patience=6)\n",
    "mc = ModelCheckpoint('total_category_model.h5', monitor='val_acc', mode='max', verbose=1, save_best_only=True)"
   ]
  },
  {
   "cell_type": "code",
   "execution_count": 22,
   "metadata": {},
   "outputs": [
    {
     "name": "stdout",
     "output_type": "stream",
     "text": [
      "Epoch 1/10\n",
      "713/713 [==============================] - 108s 150ms/step - loss: 0.5481 - acc: 0.8453 - val_loss: 0.1027 - val_acc: 0.9768\n",
      "\n",
      "Epoch 00001: val_acc improved from -inf to 0.97685, saving model to total_category_model.h5\n",
      "Epoch 2/10\n",
      "713/713 [==============================] - 103s 144ms/step - loss: 0.0557 - acc: 0.9874 - val_loss: 0.0978 - val_acc: 0.9732\n",
      "\n",
      "Epoch 00002: val_acc did not improve from 0.97685\n",
      "Epoch 3/10\n",
      "713/713 [==============================] - 105s 148ms/step - loss: 0.7774 - acc: 0.7561 - val_loss: 1.9018 - val_acc: 0.3875\n",
      "\n",
      "Epoch 00003: val_acc did not improve from 0.97685\n",
      "Epoch 4/10\n",
      "713/713 [==============================] - 163s 229ms/step - loss: 1.5394 - acc: 0.5126 - val_loss: 0.9432 - val_acc: 0.6865\n",
      "\n",
      "Epoch 00004: val_acc did not improve from 0.97685\n",
      "Epoch 5/10\n",
      "713/713 [==============================] - 122s 172ms/step - loss: 0.6317 - acc: 0.7963 - val_loss: 0.3872 - val_acc: 0.8716\n",
      "\n",
      "Epoch 00005: val_acc did not improve from 0.97685\n",
      "Epoch 6/10\n",
      "713/713 [==============================] - 110s 155ms/step - loss: 0.3099 - acc: 0.9084 - val_loss: 0.1987 - val_acc: 0.9449\n",
      "\n",
      "Epoch 00006: val_acc did not improve from 0.97685\n",
      "Epoch 7/10\n",
      "713/713 [==============================] - 109s 152ms/step - loss: 0.1920 - acc: 0.9466 - val_loss: 0.1706 - val_acc: 0.9472\n",
      "\n",
      "Epoch 00007: val_acc did not improve from 0.97685\n",
      "Epoch 8/10\n",
      "713/713 [==============================] - 110s 154ms/step - loss: 0.1341 - acc: 0.9626 - val_loss: 0.1545 - val_acc: 0.9600\n",
      "\n",
      "Epoch 00008: val_acc did not improve from 0.97685\n",
      "Epoch 00008: early stopping\n",
      "382/382 [==============================] - 15s 40ms/step - loss: 0.1004 - acc: 0.9782\n",
      "\n",
      " 테스트 정확도: 0.9782\n"
     ]
    }
   ],
   "source": [
    "model.compile(optimizer='adam', loss='categorical_crossentropy', metrics=['acc'])\n",
    "history = model.fit(x_train, y_train, epochs=10, callbacks=[es, mc], batch_size=32, validation_split=0.2)\n",
    "\n",
    "loaded_model = load_model('total_category_model.h5')\n",
    "print(\"\\n 테스트 정확도: %.4f\" % (loaded_model.evaluate(x_test, y_test)))"
   ]
  },
  {
   "cell_type": "code",
   "execution_count": 23,
   "metadata": {},
   "outputs": [
    {
     "name": "stdout",
     "output_type": "stream",
     "text": [
      "dict_keys(['loss', 'acc', 'val_loss', 'val_acc'])\n"
     ]
    },
    {
     "data": {
      "image/png": "[encoded data removed]",
      "text/plain": [
       "<Figure size 640x480 with 1 Axes>"
      ]
     },
     "metadata": {},
     "output_type": "display_data"
    },
    {
     "data": {
      "image/png": "[encoded data removed]",
      "text/plain": [
       "<Figure size 640x480 with 1 Axes>"
      ]
     },
     "metadata": {},
     "output_type": "display_data"
    }
   ],
   "source": [
    "import matplotlib.pyplot as plt\n",
    "# list all data in history\n",
    "print(history.history.keys())\n",
    "# summarize history for accuracy\n",
    "plt.plot(history.history['acc'])\n",
    "plt.plot(history.history['val_acc'])\n",
    "plt.title('model accuracy')\n",
    "plt.ylabel('accuracy')\n",
    "plt.xlabel('epoch')\n",
    "plt.legend(['train', 'test'], loc='upper left')\n",
    "plt.show()\n",
    "# summarize history for loss\n",
    "plt.plot(history.history['loss'])\n",
    "plt.plot(history.history['val_loss'])\n",
    "plt.title('model loss')\n",
    "plt.ylabel('loss')\n",
    "plt.xlabel('epoch')\n",
    "plt.legend(['train', 'test'], loc='upper left')\n",
    "plt.show()"
   ]
  },
  {
   "cell_type": "code",
   "execution_count": null,
   "metadata": {},
   "outputs": [],
   "source": []
  },
  {
   "cell_type": "code",
   "execution_count": null,
   "metadata": {},
   "outputs": [],
   "source": []
  }
 ],
 "metadata": {
  "interpreter": {
   "hash": "022eb7dab1e64abfe7845a82597d3156ee0a5d78294cf462a778b063942c3de6"
  },
  "kernelspec": {
   "display_name": "Python 3",
   "language": "python",
   "name": "python3"
  },
  "language_info": {
   "codemirror_mode": {
    "name": "ipython",
    "version": 3
   },
   "file_extension": ".py",
   "mimetype": "text/x-python",
   "name": "python",
   "nbconvert_exporter": "python",
   "pygments_lexer": "ipython3",
   "version": "3.8.11"
  }
 },
 "nbformat": 4,
 "nbformat_minor": 2
}
